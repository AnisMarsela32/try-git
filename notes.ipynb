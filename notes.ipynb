{
 "cells": [
  {
   "cell_type": "markdown",
   "id": "8cbb3ddb",
   "metadata": {},
   "source": [
    "# My Notebook\n",
    "\n",
    "## Introduction\n",
    "- Name: Anis Marsela"
   ]
  },
  {
   "cell_type": "markdown",
   "id": "f081e69f",
   "metadata": {},
   "source": [
    "print(\"This code will be executed.\")"
   ]
  }
 ],
 "metadata": {
  "language_info": {
   "name": "python"
  }
 },
 "nbformat": 4,
 "nbformat_minor": 5
}
